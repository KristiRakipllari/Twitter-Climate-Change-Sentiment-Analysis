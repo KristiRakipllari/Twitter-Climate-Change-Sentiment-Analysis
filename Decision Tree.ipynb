{
 "cells": [
  {
   "cell_type": "code",
   "execution_count": 2,
   "metadata": {},
   "outputs": [],
   "source": [
    "import pandas as pd\n",
    "\n",
    "import plotly.express as px\n",
    "import matplotlib.pyplot as plt\n",
    "\n",
    "import re\n",
    "from nltk.corpus import stopwords\n",
    "from nltk.stem import WordNetLemmatizer\n",
    "import emoji\n",
    "\n",
    "from sklearn.feature_extraction.text import TfidfVectorizer\n",
    "from imblearn.pipeline import Pipeline\n",
    "from imblearn.over_sampling import RandomOverSampler\n",
    "# Importing the Decision Tree classifier\n",
    "from sklearn.tree import DecisionTreeClassifier\n",
    "from skopt import BayesSearchCV\n",
    "from sklearn.metrics import classification_report\n",
    "from sklearn.metrics import ConfusionMatrixDisplay\n",
    "\n",
    "random_state=42"
   ]
  },
  {
   "cell_type": "markdown",
   "metadata": {},
   "source": [
    "<h2>Helper Functions</h2>"
   ]
  },
  {
   "cell_type": "code",
   "execution_count": 4,
   "metadata": {},
   "outputs": [],
   "source": [
    "# Tweets preprocessing.\n",
    "\n",
    "stopw = stopwords.words(\"english\")\n",
    "lemmatizer = WordNetLemmatizer()\n",
    "\n",
    "def clean_tweet(tweet):\n",
    "\n",
    "    tweet = tweet.lower()\n",
    "\n",
    "    # Remove twitter handels (@user)\n",
    "    tweet = re.sub(\"@[a-z0-9:]+\", \"\", tweet)\n",
    "\n",
    "    # Remove RT\n",
    "    tweet = re.sub(\"rt \", \"\", tweet)\n",
    "\n",
    "    # Remove http links\n",
    "    tweet = re.sub(r\"http\\S+\", \"\", tweet) \n",
    "    \n",
    "\n",
    "    # Remove hashtag sign but keep the text\n",
    "    tweet = tweet.replace(\"#\", \"\").replace(\"_\", \" \") \n",
    "\n",
    "    # Remove punctuations\n",
    "    tweet = re.sub('[()!?]', ' ', tweet)\n",
    "    tweet = re.sub('\\[.*?\\]',' ', tweet)\n",
    "\n",
    "    # Remove all non-alphanumeric character\n",
    "    tweet = re.sub(\"[^a-z0-9]\",\" \", tweet)\n",
    "\n",
    "    # Stop word removal and lemmatization\n",
    "    tweet = tweet.split()\n",
    "    tweet = [w for w in tweet if not w in stopw]\n",
    "    tweet = [lemmatizer.lemmatize(w) for w in tweet ]\n",
    "    tweet = \" \".join(word for word in tweet)\n",
    "\n",
    "    return tweet\n",
    "    \n",
    "def remove_emoji(text):\n",
    "    return emoji.replace_emoji(text, replace='')"
   ]
  },
  {
   "cell_type": "code",
   "execution_count": 8,
   "metadata": {},
   "outputs": [],
   "source": [
    "def wrapper(train, test):\n",
    "    # Apply tweets preprocessing.\n",
    "    train[\"message_clean\"] = train[\"message\"].apply(lambda x: clean_tweet(x))\n",
    "    test[\"message_clean\"] = test[\"message\"].apply(lambda x: clean_tweet(x))\n",
    "\n",
    "    # Prepare datasets for ML model.\n",
    "    X_train = train[\"message_clean\"].values.reshape(-1, 1)\n",
    "    y_train = train[\"sentiment\"]\n",
    "\n",
    "    X_test = test[\"message_clean\"].values.reshape(-1, 1)\n",
    "    y_test = test[\"sentiment\"]\n",
    "\n",
    "    # Balancing.\n",
    "    sampler = RandomOverSampler(random_state=random_state)\n",
    "    X_train_sampled, y_train_sampled = sampler.fit_resample(X_train, y_train)\n",
    "\n",
    "    # Create the Decision Tree model.\n",
    "    dt = DecisionTreeClassifier(random_state=random_state)\n",
    "\n",
    "    # Create TF-IDF Vectorizer.\n",
    "    tfidf_converter = TfidfVectorizer()\n",
    "\n",
    "    # Create the pipeline.\n",
    "    pipeline = Pipeline(steps=[(\"tf_idf\", tfidf_converter), (\"classification\", dt)])\n",
    "\n",
    "    # Search parameters for Bayesian optimization.\n",
    "    param_grid = {\n",
    "        \"tf_idf__max_df\": (0.7, 1.0),\n",
    "        \"tf_idf__min_df\": (0.0, 0.3),\n",
    "        \"classification__max_depth\": (10, 1500),\n",
    "        \"classification__min_samples_split\": (2, 10),\n",
    "        \"classification__min_samples_leaf\": (1, 10)\n",
    "    }\n",
    "\n",
    "    # n_iter, cv, and n_jobs can be adjusted to differentiate between accuracy and speed.\n",
    "    bayes_search_estimator = BayesSearchCV(estimator=pipeline, search_spaces=param_grid, n_iter=20, cv=3, n_jobs=-2, random_state=random_state)\n",
    "\n",
    "    # Fit the model.\n",
    "    bayes_search_estimator.fit(X_train_sampled.ravel(), y_train_sampled)\n",
    "\n",
    "    # Print best accuracy and hyperparameters.\n",
    "    print(f\"Best accuracy: {bayes_search_estimator.best_score_ * 100:.2f}%\")\n",
    "    print(f\"Best hyperparameters: {bayes_search_estimator.best_params_}\")\n",
    "\n",
    "    # Get the best estimator from the Bayesian search.\n",
    "    estimator = bayes_search_estimator.best_estimator_\n",
    "\n",
    "    # Predict class labels.\n",
    "    y_pred = estimator.predict(X_test.ravel())\n",
    "\n",
    "    # Display classification report and confusion matrix.\n",
    "    print(classification_report(y_test, y_pred))\n",
    "    ConfusionMatrixDisplay.from_predictions(y_test, y_pred, cmap=\"Blues\")\n",
    "    plt.show()\n",
    "\n",
    "    # Return best TF-IDF and ML model.\n",
    "    return estimator[\"tf_idf\"], estimator[\"classification\"]\n"
   ]
  },
  {
   "cell_type": "markdown",
   "metadata": {},
   "source": [
    "<h3>Machine Learning</h3>\n",
    "Our sentiment analysis task is to predict whether a climate change related tweet and the beliefs it reflects falls into one of four categories:\n",
    "\n",
    "- Anti (Climate change denier)\n",
    "- Neutral (Neutral towards the topic)\n",
    "- Pro (Climate change believer)\n",
    "- Factual News (Factual news attached that cites a credible source towards the existence of climate change)\n",
    "\n",
    "The first three categories are typical in the context of sentiment analysis, while the fourth category may be kind of out of place. Thus, we decided, in consultation with our tutor, that we test three approaches in handling this category:\n",
    "\n",
    "Leave it as it is (Normal approach)\n",
    "Drop all rows labelled as this class (Dropping approach)\n",
    "Replacing it with the \"Pro\" label, as it could be interpreted that way (Replacing approach)\n",
    "In the following, we will compare the results of all three approaches."
   ]
  },
  {
   "cell_type": "markdown",
   "metadata": {},
   "source": [
    "<h3>Normal approach</h3>"
   ]
  },
  {
   "cell_type": "code",
   "execution_count": 9,
   "metadata": {},
   "outputs": [],
   "source": [
    "train = pd.read_csv(\"./data/trainset.csv\")\n",
    "test = pd.read_csv(\"./data/testset.csv\")"
   ]
  },
  {
   "cell_type": "code",
   "execution_count": 10,
   "metadata": {},
   "outputs": [],
   "source": [
    "display_dist(train)"
   ]
  },
  {
   "cell_type": "code",
   "execution_count": 11,
   "metadata": {},
   "outputs": [
    {
     "name": "stdout",
     "output_type": "stream",
     "text": [
      "Best accuracy: 83.47%\n",
      "Best hyperparameters: OrderedDict([('classification__max_depth', 958), ('classification__min_samples_leaf', 1), ('classification__min_samples_split', 10), ('tf_idf__max_df', 0.7), ('tf_idf__min_df', 0.0)])\n",
      "              precision    recall  f1-score   support\n",
      "\n",
      "          -1       0.37      0.43      0.40       771\n",
      "           0       0.40      0.43      0.41      1501\n",
      "           1       0.70      0.61      0.65      4120\n",
      "           2       0.55      0.65      0.60      1815\n",
      "\n",
      "    accuracy                           0.57      8207\n",
      "   macro avg       0.51      0.53      0.51      8207\n",
      "weighted avg       0.58      0.57      0.57      8207\n",
      "\n"
     ]
    },
    {
     "data": {
      "image/png": "[encoded data removed]",
      "text/plain": [
       "<Figure size 432x288 with 2 Axes>"
      ]
     },
     "metadata": {
      "needs_background": "light"
     },
     "output_type": "display_data"
    }
   ],
   "source": [
    "tf_idf_normal, dt_normal = wrapper(train, test)"
   ]
  },
  {
   "cell_type": "markdown",
   "metadata": {},
   "source": [
    "<h3>Dropping approach</h3>"
   ]
  },
  {
   "cell_type": "code",
   "execution_count": 12,
   "metadata": {},
   "outputs": [],
   "source": [
    "train_drop = train[train[\"sentiment\"] != 2].copy(deep=True)\n",
    "test_drop = test[test[\"sentiment\"] != 2].copy(deep=True)"
   ]
  },
  {
   "cell_type": "code",
   "execution_count": 14,
   "metadata": {},
   "outputs": [],
   "source": [
    "display_dist(train_drop)"
   ]
  },
  {
   "cell_type": "code",
   "execution_count": 15,
   "metadata": {},
   "outputs": [
    {
     "name": "stdout",
     "output_type": "stream",
     "text": [
      "Best accuracy: 84.76%\n",
      "Best hyperparameters: OrderedDict([('classification__max_depth', 1303), ('classification__min_samples_leaf', 1), ('classification__min_samples_split', 8), ('tf_idf__max_df', 0.8749123645142688), ('tf_idf__min_df', 0.0013040056799145884)])\n",
      "              precision    recall  f1-score   support\n",
      "\n",
      "          -1       0.38      0.44      0.41       771\n",
      "           0       0.41      0.48      0.44      1501\n",
      "           1       0.79      0.71      0.75      4120\n",
      "\n",
      "    accuracy                           0.63      6392\n",
      "   macro avg       0.52      0.55      0.53      6392\n",
      "weighted avg       0.65      0.63      0.64      6392\n",
      "\n"
     ]
    },
    {
     "data": {
      "image/png": "[encoded data removed]",
      "text/plain": [
       "<Figure size 432x288 with 2 Axes>"
      ]
     },
     "metadata": {
      "needs_background": "light"
     },
     "output_type": "display_data"
    }
   ],
   "source": [
    "tf_idf_drop, dt_drop = wrapper(train_drop, test_drop)"
   ]
  },
  {
   "cell_type": "markdown",
   "metadata": {},
   "source": [
    "<h3>Replacing approach</h3>"
   ]
  },
  {
   "cell_type": "code",
   "execution_count": 16,
   "metadata": {},
   "outputs": [],
   "source": [
    "train_replace = train.copy(deep=True)\n",
    "train_replace[\"sentiment\"] = train_replace[\"sentiment\"].replace(2, 1)\n",
    "\n",
    "test_replace = test.copy(deep=True)\n",
    "test_replace[\"sentiment\"] = test_replace[\"sentiment\"].replace(2, 1)"
   ]
  },
  {
   "cell_type": "code",
   "execution_count": 17,
   "metadata": {},
   "outputs": [],
   "source": [
    "display_dist(train_replace)"
   ]
  },
  {
   "cell_type": "code",
   "execution_count": 18,
   "metadata": {},
   "outputs": [
    {
     "name": "stdout",
     "output_type": "stream",
     "text": [
      "Best accuracy: 44.19%\n",
      "Best hyperparameters: OrderedDict([('classification__max_depth', 721), ('classification__min_samples_leaf', 2), ('classification__min_samples_split', 9), ('tf_idf__max_df', 0.9920761138198906), ('tf_idf__min_df', 0.09921316334650422)])\n",
      "              precision    recall  f1-score   support\n",
      "\n",
      "          -1       0.31      0.09      0.14       771\n",
      "           0       0.33      0.40      0.36      1501\n",
      "           1       0.80      0.83      0.82      5935\n",
      "\n",
      "    accuracy                           0.68      8207\n",
      "   macro avg       0.48      0.44      0.44      8207\n",
      "weighted avg       0.67      0.68      0.67      8207\n",
      "\n"
     ]
    },
    {
     "data": {
      "image/png": "[encoded data removed]",
      "text/plain": [
       "<Figure size 432x288 with 2 Axes>"
      ]
     },
     "metadata": {
      "needs_background": "light"
     },
     "output_type": "display_data"
    }
   ],
   "source": [
    "tf_idf_replace, dt_replace = wrapper(train_replace, test_replace)"
   ]
  },
  {
   "cell_type": "markdown",
   "metadata": {},
   "source": [
    "<h4>The accuracy results speak for themselves:</h4>\n",
    "\n",
    "- Normal approach: Train: 0.83, Test: 0.58\n",
    "- Dropping approach: Train: 0.85, Test: 0.65\n",
    "- Replacing approach: Train: 0.44, Test: 0.68\n"
   ]
  }
 ],
 "metadata": {
  "kernelspec": {
   "display_name": "Python 3",
   "language": "python",
   "name": "python3"
  },
  "language_info": {
   "codemirror_mode": {
    "name": "ipython",
    "version": 3
   },
   "file_extension": ".py",
   "mimetype": "text/x-python",
   "name": "python",
   "nbconvert_exporter": "python",
   "pygments_lexer": "ipython3",
   "version": "3.10.5"
  }
 },
 "nbformat": 4,
 "nbformat_minor": 2
}
